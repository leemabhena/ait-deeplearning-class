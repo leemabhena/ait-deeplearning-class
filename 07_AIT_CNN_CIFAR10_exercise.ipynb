{
  "nbformat": 4,
  "nbformat_minor": 0,
  "metadata": {
    "anaconda-cloud": {},
    "kernelspec": {
      "display_name": "Python 3",
      "language": "python",
      "name": "python3"
    },
    "language_info": {
      "codemirror_mode": {
        "name": "ipython",
        "version": 3
      },
      "file_extension": ".py",
      "mimetype": "text/x-python",
      "name": "python",
      "nbconvert_exporter": "python",
      "pygments_lexer": "ipython3",
      "version": "3.6.6"
    },
    "colab": {
      "provenance": [],
      "include_colab_link": true
    },
    "accelerator": "GPU"
  },
  "cells": [
    {
      "cell_type": "markdown",
      "metadata": {
        "id": "view-in-github",
        "colab_type": "text"
      },
      "source": [
        "<a href=\"https://colab.research.google.com/github/leemabhena/ait-deeplearning-class/blob/main/07_AIT_CNN_CIFAR10_exercise.ipynb\" target=\"_parent\"><img src=\"https://colab.research.google.com/assets/colab-badge.svg\" alt=\"Open In Colab\"/></a>"
      ]
    },
    {
      "cell_type": "markdown",
      "metadata": {
        "id": "cW-EyI5Lxpqi"
      },
      "source": [
        "# Copyright\n",
        "\n",
        "<PRE>\n",
        "Copyright (c) 2024 Bálint Gyires-Tóth - All Rights Reserved\n",
        "You may use and modify this code for research and development purpuses.\n",
        "Using this code for educational purposes (self-paced or instructor led) without the permission of the author is prohibited.\n",
        "</PRE>"
      ]
    },
    {
      "cell_type": "markdown",
      "source": [
        "# Convolutional Neural Network exercise\n",
        "\n",
        "In this notebook, you will build a convolutional neural network, which offers superior results over the previous MLP solution. Additionally, you will perform a more detailed evaluation."
      ],
      "metadata": {
        "id": "3EX4cCa4WKJu"
      }
    },
    {
      "cell_type": "code",
      "source": [
        "# imports\n",
        "from tensorflow.keras.datasets import cifar10\n",
        "from tensorflow.keras.utils import to_categorical\n",
        "import numpy as np\n",
        "import matplotlib.pyplot as plt\n",
        "from tensorflow.keras.models import Sequential\n",
        "from tensorflow.keras.layers import Dense, Conv2D, MaxPool2D, Flatten, Dropout, BatchNormalization\n",
        "from tensorflow.keras.initializers import HeNormal\n",
        "from tensorflow.keras.callbacks import EarlyStopping"
      ],
      "metadata": {
        "id": "GdCMhy4HA2qd"
      },
      "execution_count": 15,
      "outputs": []
    },
    {
      "cell_type": "markdown",
      "source": [
        "# 1. Data\n",
        "The dataset we will use is the well-known CIFAR10 (Canadian Institute For Advanced Research). Explore the details on the Keras website first: https://keras.io/api/datasets/cifar10/\n",
        "\n",
        "There isn't much difference between the data preprocessing part and the one we did before. The only difference is that we don't have to reshape images into vectors, but we are working with a 4 dimensional data structure, where the dimensions are: batch, X, Y, and color channels.\n",
        "\n",
        "In the event that anything is not clear regarding the data preparation part, please check the previous CIFAR10 notebook."
      ],
      "metadata": {
        "id": "yY9fztIeWIKt"
      }
    },
    {
      "cell_type": "code",
      "source": [
        "(X_train, Y_train), (X_test, Y_test) = cifar10.load_data()"
      ],
      "metadata": {
        "id": "bez7q0eiWQCK",
        "colab": {
          "base_uri": "https://localhost:8080/"
        },
        "outputId": "a1fd12b0-f182-4abf-889d-34abc020358d"
      },
      "execution_count": 2,
      "outputs": [
        {
          "output_type": "stream",
          "name": "stdout",
          "text": [
            "Downloading data from https://www.cs.toronto.edu/~kriz/cifar-10-python.tar.gz\n",
            "170498071/170498071 [==============================] - 3s 0us/step\n"
          ]
        }
      ]
    },
    {
      "cell_type": "code",
      "source": [
        "# it is in int8 format, the neural network requires float32\n",
        "X_train = X_train.astype(\"float32\")\n",
        "X_test = X_test.astype(\"float32\")"
      ],
      "metadata": {
        "id": "vukOcBM0XzSj"
      },
      "execution_count": 3,
      "outputs": []
    },
    {
      "cell_type": "code",
      "source": [
        "train_ratio  = 0.8\n",
        "train_length = X_train.shape[0]\n",
        "train_split  = int(train_ratio*train_length)\n",
        "X_valid, Y_valid = X_train[train_split:], Y_train[train_split:]\n",
        "X_train, Y_train = X_train[:train_split], Y_train[:train_split]"
      ],
      "metadata": {
        "id": "mRwuWxxIxLgN"
      },
      "execution_count": 4,
      "outputs": []
    },
    {
      "cell_type": "code",
      "source": [
        "mean = X_train.mean(axis=0)\n",
        "std  = X_train.std(axis=0)\n",
        "\n",
        "X_train = (X_train-mean)/std\n",
        "X_valid = (X_valid-mean)/std\n",
        "X_test  = (X_test-mean)/std"
      ],
      "metadata": {
        "id": "2ESLP1EIyB2J"
      },
      "execution_count": 5,
      "outputs": []
    },
    {
      "cell_type": "code",
      "source": [
        "nb_classes = len(np.unique(Y_train))\n",
        "Y_train = to_categorical(Y_train, nb_classes)\n",
        "Y_valid = to_categorical(Y_valid, nb_classes)\n",
        "Y_test  = to_categorical(Y_test, nb_classes)"
      ],
      "metadata": {
        "id": "xwZ4OJ6I8lba"
      },
      "execution_count": 6,
      "outputs": []
    },
    {
      "cell_type": "code",
      "source": [
        "print(\"Shapes of the training, validation and test input data:\", X_train.shape, X_valid.shape, X_test.shape)\n",
        "print(\"Shapes of the training, validation and test output data:\", Y_train.shape, Y_valid.shape, Y_test.shape)\n",
        "print(\"Mean values of the training, validation and test input data:\", X_train.mean(), X_valid.mean(), X_test.mean())\n",
        "print(\"Standard deviation of the training, validation and test input data:\", X_train.std(), X_valid.std(), X_test.std())"
      ],
      "metadata": {
        "id": "O_jdJVcvX0vi",
        "colab": {
          "base_uri": "https://localhost:8080/"
        },
        "outputId": "6a8d21b1-f8a0-4593-ffae-d72c36ba1a9a"
      },
      "execution_count": 7,
      "outputs": [
        {
          "output_type": "stream",
          "name": "stdout",
          "text": [
            "Shapes of the training, validation and test input data: (40000, 32, 32, 3) (10000, 32, 32, 3) (10000, 32, 32, 3)\n",
            "Shapes of the training, validation and test output data: (40000, 10) (10000, 10) (10000, 10)\n",
            "Mean values of the training, validation and test input data: 2.2788842e-09 0.0023437198 0.013331206\n",
            "Standard deviation of the training, validation and test input data: 1.0000023 0.9965626 0.99783075\n"
          ]
        }
      ]
    },
    {
      "cell_type": "markdown",
      "metadata": {
        "id": "cJ14oyZExpqj"
      },
      "source": [
        "# 2. Exercise: training"
      ]
    },
    {
      "cell_type": "markdown",
      "source": [
        "Create and train a convolutional neural network with the following requirements:\n",
        "* apply early stopping with patience=5 and monitor the validation accuracy, don't forget to load back the best weights after early stopping\n",
        "* the number of trainable parameters is lower than 200.000\n",
        "* the validation accuracy must be higher than 72%\n",
        "\n",
        "Hints:\n",
        "* you can always inspect the number of trainable parameters per layer with model.summary()\n",
        "* usually the most trainable parameters are between the last convolutional layer and the next dense layer -- so you should have a reasonable output size at the last convolutional layer\n",
        "* regularization helps (e.g. DropOut and/or BatchNormalization)\n",
        "* use the right activation function at the output layer and the corresponding loss function\n",
        "* for the chosen activation functions, please use the appropriate initialization method\n",
        "* you can match the dimension of the last conv/pooling layer to the next dense layer with e.g. Flatten()\n",
        "* ADAM optimizer is a reasonable choice\n",
        "* don't forget to turn on GPU support in Colab, otherwise, it would be quite slow to train the networks\n",
        "\n"
      ],
      "metadata": {
        "id": "j1tGVPdD-pp3"
      }
    },
    {
      "cell_type": "code",
      "source": [
        "es = EarlyStopping(patience=5, monitor='val_accuracy', restore_best_weights=True)"
      ],
      "metadata": {
        "id": "5dBQxJHIHrbd"
      },
      "execution_count": 16,
      "outputs": []
    },
    {
      "cell_type": "code",
      "source": [
        "# model definition\n",
        "model = Sequential()\n",
        "\n",
        "model.add(Conv2D(32, kernel_size=(3, 3), activation='relu', kernel_initializer=HeNormal(), padding='same', input_shape=(32, 32, 3)))\n",
        "model.add(BatchNormalization())\n",
        "model.add(Conv2D(32, (3, 3), activation='relu', padding='same'))\n",
        "model.add(MaxPool2D(pool_size=(2, 2)))\n",
        "model.add(Dropout(0.2))\n",
        "model.add(Conv2D(32, (3, 3), activation='relu', padding='same'))\n",
        "model.add(BatchNormalization())\n",
        "model.add(Conv2D(32, (3, 3), activation='relu', padding='same'))\n",
        "model.add(MaxPool2D(pool_size=(2, 2)))\n",
        "model.add(Dropout(0.3))\n",
        "model.add(Flatten())\n",
        "model.add(Dense(64, activation='relu'))\n",
        "model.add(Dropout(0.4))\n",
        "model.add(Dense(10, activation='softmax'))\n",
        "\n",
        "# loss function and optimizer\n",
        "model.compile(optimizer=\"adam\",\n",
        "              loss='categorical_crossentropy',\n",
        "              metrics=['accuracy'])"
      ],
      "metadata": {
        "id": "PuxHOqLt-3Nd"
      },
      "execution_count": 49,
      "outputs": []
    },
    {
      "cell_type": "code",
      "source": [
        "model.summary()"
      ],
      "metadata": {
        "id": "5eomQw8uE9Ix",
        "outputId": "525942cc-cec7-4158-86cc-1daf9da9d37a",
        "colab": {
          "base_uri": "https://localhost:8080/"
        }
      },
      "execution_count": 50,
      "outputs": [
        {
          "output_type": "stream",
          "name": "stdout",
          "text": [
            "Model: \"sequential_13\"\n",
            "_________________________________________________________________\n",
            " Layer (type)                Output Shape              Param #   \n",
            "=================================================================\n",
            " conv2d_46 (Conv2D)          (None, 32, 32, 32)        896       \n",
            "                                                                 \n",
            " batch_normalization_23 (Ba  (None, 32, 32, 32)        128       \n",
            " tchNormalization)                                               \n",
            "                                                                 \n",
            " conv2d_47 (Conv2D)          (None, 32, 32, 32)        9248      \n",
            "                                                                 \n",
            " max_pooling2d_22 (MaxPooli  (None, 16, 16, 32)        0         \n",
            " ng2D)                                                           \n",
            "                                                                 \n",
            " dropout_33 (Dropout)        (None, 16, 16, 32)        0         \n",
            "                                                                 \n",
            " conv2d_48 (Conv2D)          (None, 16, 16, 32)        9248      \n",
            "                                                                 \n",
            " batch_normalization_24 (Ba  (None, 16, 16, 32)        128       \n",
            " tchNormalization)                                               \n",
            "                                                                 \n",
            " conv2d_49 (Conv2D)          (None, 16, 16, 32)        9248      \n",
            "                                                                 \n",
            " max_pooling2d_23 (MaxPooli  (None, 8, 8, 32)          0         \n",
            " ng2D)                                                           \n",
            "                                                                 \n",
            " dropout_34 (Dropout)        (None, 8, 8, 32)          0         \n",
            "                                                                 \n",
            " flatten_11 (Flatten)        (None, 2048)              0         \n",
            "                                                                 \n",
            " dense_22 (Dense)            (None, 64)                131136    \n",
            "                                                                 \n",
            " dropout_35 (Dropout)        (None, 64)                0         \n",
            "                                                                 \n",
            " dense_23 (Dense)            (None, 10)                650       \n",
            "                                                                 \n",
            "=================================================================\n",
            "Total params: 160682 (627.66 KB)\n",
            "Trainable params: 160554 (627.16 KB)\n",
            "Non-trainable params: 128 (512.00 Byte)\n",
            "_________________________________________________________________\n"
          ]
        }
      ]
    },
    {
      "cell_type": "markdown",
      "source": [
        "Please, check the number of trainable paramers:"
      ],
      "metadata": {
        "id": "8tIbIIeTEI41"
      }
    },
    {
      "cell_type": "code",
      "source": [
        "print(\"#trainable parameters:\",model.count_params())"
      ],
      "metadata": {
        "id": "xdBAG7EJETlX",
        "outputId": "957e4324-1d74-42d5-aef3-26a16816cf02",
        "colab": {
          "base_uri": "https://localhost:8080/"
        }
      },
      "execution_count": 51,
      "outputs": [
        {
          "output_type": "stream",
          "name": "stdout",
          "text": [
            "#trainable parameters: 160682\n"
          ]
        }
      ]
    },
    {
      "cell_type": "code",
      "source": [
        "# training\n",
        "network_history = model.fit(X_train, Y_train,\n",
        "                    batch_size=64,\n",
        "                    epochs=50,\n",
        "                    validation_data=(X_valid, Y_valid),\n",
        "                    callbacks=[es])"
      ],
      "metadata": {
        "id": "u8tFNCNVHyt9",
        "outputId": "f1892c1f-26a9-4a2a-d521-44677c148450",
        "colab": {
          "base_uri": "https://localhost:8080/"
        }
      },
      "execution_count": 52,
      "outputs": [
        {
          "output_type": "stream",
          "name": "stdout",
          "text": [
            "Epoch 1/50\n",
            "625/625 [==============================] - 8s 8ms/step - loss: 2.0013 - accuracy: 0.2234 - val_loss: 1.7319 - val_accuracy: 0.3538\n",
            "Epoch 2/50\n",
            "625/625 [==============================] - 5s 8ms/step - loss: 1.7360 - accuracy: 0.3305 - val_loss: 1.4523 - val_accuracy: 0.4856\n",
            "Epoch 3/50\n",
            "625/625 [==============================] - 5s 8ms/step - loss: 1.5225 - accuracy: 0.4343 - val_loss: 1.2015 - val_accuracy: 0.5877\n",
            "Epoch 4/50\n",
            "625/625 [==============================] - 5s 9ms/step - loss: 1.3363 - accuracy: 0.5125 - val_loss: 1.0235 - val_accuracy: 0.6395\n",
            "Epoch 5/50\n",
            "625/625 [==============================] - 5s 8ms/step - loss: 1.2229 - accuracy: 0.5596 - val_loss: 0.9575 - val_accuracy: 0.6654\n",
            "Epoch 6/50\n",
            "625/625 [==============================] - 5s 8ms/step - loss: 1.1450 - accuracy: 0.5886 - val_loss: 0.9392 - val_accuracy: 0.6704\n",
            "Epoch 7/50\n",
            "625/625 [==============================] - 6s 9ms/step - loss: 1.0872 - accuracy: 0.6105 - val_loss: 0.8811 - val_accuracy: 0.6926\n",
            "Epoch 8/50\n",
            "625/625 [==============================] - 5s 8ms/step - loss: 1.0478 - accuracy: 0.6251 - val_loss: 0.8499 - val_accuracy: 0.7059\n",
            "Epoch 9/50\n",
            "625/625 [==============================] - 5s 8ms/step - loss: 1.0107 - accuracy: 0.6414 - val_loss: 0.8126 - val_accuracy: 0.7196\n",
            "Epoch 10/50\n",
            "625/625 [==============================] - 5s 8ms/step - loss: 0.9813 - accuracy: 0.6536 - val_loss: 0.7941 - val_accuracy: 0.7203\n",
            "Epoch 11/50\n",
            "625/625 [==============================] - 5s 9ms/step - loss: 0.9389 - accuracy: 0.6689 - val_loss: 0.7823 - val_accuracy: 0.7290\n",
            "Epoch 12/50\n",
            "625/625 [==============================] - 5s 8ms/step - loss: 0.9164 - accuracy: 0.6793 - val_loss: 0.8027 - val_accuracy: 0.7245\n",
            "Epoch 13/50\n",
            "625/625 [==============================] - 5s 8ms/step - loss: 0.8984 - accuracy: 0.6860 - val_loss: 0.7859 - val_accuracy: 0.7313\n",
            "Epoch 14/50\n",
            "625/625 [==============================] - 5s 9ms/step - loss: 0.8625 - accuracy: 0.6981 - val_loss: 0.7353 - val_accuracy: 0.7444\n",
            "Epoch 15/50\n",
            "625/625 [==============================] - 5s 8ms/step - loss: 0.8598 - accuracy: 0.7003 - val_loss: 0.7273 - val_accuracy: 0.7478\n",
            "Epoch 16/50\n",
            "625/625 [==============================] - 5s 9ms/step - loss: 0.8318 - accuracy: 0.7101 - val_loss: 0.7230 - val_accuracy: 0.7483\n",
            "Epoch 17/50\n",
            "625/625 [==============================] - 5s 8ms/step - loss: 0.8148 - accuracy: 0.7150 - val_loss: 0.7243 - val_accuracy: 0.7472\n",
            "Epoch 18/50\n",
            "625/625 [==============================] - 5s 8ms/step - loss: 0.8024 - accuracy: 0.7212 - val_loss: 0.7226 - val_accuracy: 0.7506\n",
            "Epoch 19/50\n",
            "625/625 [==============================] - 5s 8ms/step - loss: 0.7874 - accuracy: 0.7271 - val_loss: 0.7077 - val_accuracy: 0.7593\n",
            "Epoch 20/50\n",
            "625/625 [==============================] - 5s 8ms/step - loss: 0.7743 - accuracy: 0.7301 - val_loss: 0.6953 - val_accuracy: 0.7623\n",
            "Epoch 21/50\n",
            "625/625 [==============================] - 5s 9ms/step - loss: 0.7555 - accuracy: 0.7356 - val_loss: 0.6996 - val_accuracy: 0.7571\n",
            "Epoch 22/50\n",
            "625/625 [==============================] - 5s 8ms/step - loss: 0.7502 - accuracy: 0.7394 - val_loss: 0.6795 - val_accuracy: 0.7659\n",
            "Epoch 23/50\n",
            "625/625 [==============================] - 5s 9ms/step - loss: 0.7381 - accuracy: 0.7412 - val_loss: 0.6849 - val_accuracy: 0.7695\n",
            "Epoch 24/50\n",
            "625/625 [==============================] - 5s 8ms/step - loss: 0.7291 - accuracy: 0.7419 - val_loss: 0.6843 - val_accuracy: 0.7684\n",
            "Epoch 25/50\n",
            "625/625 [==============================] - 5s 8ms/step - loss: 0.7182 - accuracy: 0.7489 - val_loss: 0.7000 - val_accuracy: 0.7634\n",
            "Epoch 26/50\n",
            "625/625 [==============================] - 6s 9ms/step - loss: 0.7108 - accuracy: 0.7514 - val_loss: 0.6836 - val_accuracy: 0.7654\n",
            "Epoch 27/50\n",
            "625/625 [==============================] - 5s 8ms/step - loss: 0.7046 - accuracy: 0.7526 - val_loss: 0.6660 - val_accuracy: 0.7738\n",
            "Epoch 28/50\n",
            "625/625 [==============================] - 5s 9ms/step - loss: 0.7047 - accuracy: 0.7510 - val_loss: 0.6686 - val_accuracy: 0.7736\n",
            "Epoch 29/50\n",
            "625/625 [==============================] - 5s 8ms/step - loss: 0.6941 - accuracy: 0.7545 - val_loss: 0.6826 - val_accuracy: 0.7730\n",
            "Epoch 30/50\n",
            "625/625 [==============================] - 5s 8ms/step - loss: 0.6856 - accuracy: 0.7580 - val_loss: 0.6507 - val_accuracy: 0.7817\n",
            "Epoch 31/50\n",
            "625/625 [==============================] - 5s 8ms/step - loss: 0.6880 - accuracy: 0.7588 - val_loss: 0.6799 - val_accuracy: 0.7693\n",
            "Epoch 32/50\n",
            "625/625 [==============================] - 5s 7ms/step - loss: 0.6752 - accuracy: 0.7637 - val_loss: 0.6549 - val_accuracy: 0.7749\n",
            "Epoch 33/50\n",
            "625/625 [==============================] - 5s 8ms/step - loss: 0.6690 - accuracy: 0.7657 - val_loss: 0.6453 - val_accuracy: 0.7821\n",
            "Epoch 34/50\n",
            "625/625 [==============================] - 5s 8ms/step - loss: 0.6686 - accuracy: 0.7659 - val_loss: 0.6482 - val_accuracy: 0.7748\n",
            "Epoch 35/50\n",
            "625/625 [==============================] - 5s 9ms/step - loss: 0.6519 - accuracy: 0.7706 - val_loss: 0.6637 - val_accuracy: 0.7715\n",
            "Epoch 36/50\n",
            "625/625 [==============================] - 5s 8ms/step - loss: 0.6559 - accuracy: 0.7689 - val_loss: 0.6751 - val_accuracy: 0.7692\n",
            "Epoch 37/50\n",
            "625/625 [==============================] - 5s 8ms/step - loss: 0.6472 - accuracy: 0.7731 - val_loss: 0.6543 - val_accuracy: 0.7745\n",
            "Epoch 38/50\n",
            "625/625 [==============================] - 5s 8ms/step - loss: 0.6442 - accuracy: 0.7746 - val_loss: 0.6550 - val_accuracy: 0.7760\n"
          ]
        }
      ]
    },
    {
      "cell_type": "markdown",
      "source": [
        "# 3. Exercise: evaluation on test data\n",
        "You will evaluate the classification of the test data using the common metrics and the confusion matrix in this section.\n",
        "\n",
        "\n",
        "As a first stes, let's run the predictions and convert the predicted softmax outputs to dense labels. The one-hot encoded labels are also converted back to dense labels, as they are required for the evaluation functions."
      ],
      "metadata": {
        "id": "2FtKp-a2-A9m"
      }
    },
    {
      "cell_type": "code",
      "source": [
        "probas = model.predict(X_test)\n",
        "preds  = np.argmax(probas,axis=1)\n",
        "Y_test_dense = np.argmax(Y_test, axis=1) # get the original dense labels of the test data"
      ],
      "metadata": {
        "id": "EcWAqwlDMq3y",
        "outputId": "d9345ef8-e77b-48aa-ff15-b577b5c2313a",
        "colab": {
          "base_uri": "https://localhost:8080/"
        }
      },
      "execution_count": 25,
      "outputs": [
        {
          "output_type": "stream",
          "name": "stdout",
          "text": [
            "313/313 [==============================] - 1s 2ms/step\n"
          ]
        }
      ]
    },
    {
      "cell_type": "markdown",
      "source": [
        "## 3.1. Exercise: Metrics\n",
        "please review the common classification metrics (accuracy, precision, recall, F1) for the complete model (not per class).\n",
        "\n",
        "Hints:\n",
        "* use macro averaging\n",
        "* you have to import the right functions from [sklearn.metrics](https://scikit-learn.org/stable/modules/model_evaluation.html)\n"
      ],
      "metadata": {
        "id": "RWJ-PH_iMs9K"
      }
    },
    {
      "cell_type": "code",
      "source": [
        "from sklearn.metrics import accuracy_score, precision_score, recall_score, f1_score"
      ],
      "metadata": {
        "id": "5sKm5zHSMZ_x"
      },
      "execution_count": 26,
      "outputs": []
    },
    {
      "cell_type": "code",
      "source": [
        "Y_test = np.argmax(Y_test,axis=1)"
      ],
      "metadata": {
        "id": "2d4k0aRr2Cmc"
      },
      "execution_count": 31,
      "outputs": []
    },
    {
      "cell_type": "code",
      "source": [
        "print(\"Accuracy:\", accuracy_score(preds, Y_test))\n",
        "print(\"Precision:\", precision_score(preds, Y_test, average='macro'))\n",
        "print(\"Recall:\", recall_score(preds, Y_test, average='macro'))\n",
        "print(\"F1:\", f1_score(preds, Y_test, average='macro'))"
      ],
      "metadata": {
        "id": "I3_9wgDREUna",
        "outputId": "b9ec2f2c-7b6e-4c26-96a7-612aea465ac5",
        "colab": {
          "base_uri": "https://localhost:8080/"
        }
      },
      "execution_count": 32,
      "outputs": [
        {
          "output_type": "stream",
          "name": "stdout",
          "text": [
            "Accuracy: 0.8029\n",
            "Precision: 0.8029\n",
            "Recall: 0.8043006536804752\n",
            "F1: 0.8028426042914634\n"
          ]
        }
      ]
    },
    {
      "cell_type": "markdown",
      "source": [
        "\n",
        "## 3.2. Exercise: Confusion matrix\n",
        "Calculate the confusion matrix and display the results in a heatmap (with decimal values).\n",
        "\n",
        "Hints:\n",
        "* you have to do the imports this time too, e.g. from [sklearn.metrics](https://scikit-learn.org/stable/modules/model_evaluation.html) and the [heatmap function](https://seaborn.pydata.org/generated/seaborn.heatmap.html) of [seaborn](https://seaborn.pydata.org/)\n",
        "* for displaying the decimal values, you have to turn annot=True and define fmt='d' in the heatmap function of seaborn"
      ],
      "metadata": {
        "id": "ECHguBFtGL7f"
      }
    },
    {
      "cell_type": "code",
      "source": [
        "from sklearn.metrics import confusion_matrix\n",
        "import seaborn as sns"
      ],
      "metadata": {
        "id": "SIi2VzMBO3yD"
      },
      "execution_count": 34,
      "outputs": []
    },
    {
      "cell_type": "code",
      "metadata": {
        "id": "cdqODx92Svw7",
        "outputId": "70d8b50b-8d01-4c3b-ed9d-69f6b4966cd5",
        "colab": {
          "base_uri": "https://localhost:8080/",
          "height": 564
        }
      },
      "source": [
        "conf = confusion_matrix(Y_test, preds)\n",
        "plt.figure(figsize=(7,6))\n",
        "sns.heatmap(conf, annot=True, fmt='d', cmap='Blues')\n",
        "plt.xlabel('Predicted labels')\n",
        "plt.ylabel('True labels')\n",
        "plt.title('Confusion Matrix')\n",
        "plt.show()"
      ],
      "execution_count": 35,
      "outputs": [
        {
          "output_type": "display_data",
          "data": {
            "text/plain": [
              "<Figure size 700x600 with 2 Axes>"
            ],
            "image/png": "[encoded data removed]"
          },
          "metadata": {}
        }
      ]
    }
  ]
}