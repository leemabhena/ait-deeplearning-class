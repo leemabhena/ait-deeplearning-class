{
  "nbformat": 4,
  "nbformat_minor": 0,
  "metadata": {
    "anaconda-cloud": {},
    "kernelspec": {
      "display_name": "Python 3",
      "language": "python",
      "name": "python3"
    },
    "language_info": {
      "codemirror_mode": {
        "name": "ipython",
        "version": 3
      },
      "file_extension": ".py",
      "mimetype": "text/x-python",
      "name": "python",
      "nbconvert_exporter": "python",
      "pygments_lexer": "ipython3",
      "version": "3.6.6"
    },
    "colab": {
      "provenance": [],
      "include_colab_link": true
    },
    "accelerator": "GPU"
  },
  "cells": [
    {
      "cell_type": "markdown",
      "metadata": {
        "id": "view-in-github",
        "colab_type": "text"
      },
      "source": [
        "<a href=\"https://colab.research.google.com/github/leemabhena/ait-deeplearning-class/blob/main/04_AIT_MLP_CIFAR10_exercise.ipynb\" target=\"_parent\"><img src=\"https://colab.research.google.com/assets/colab-badge.svg\" alt=\"Open In Colab\"/></a>"
      ]
    },
    {
      "cell_type": "markdown",
      "metadata": {
        "id": "cW-EyI5Lxpqi"
      },
      "source": [
        "# Copyright\n",
        "\n",
        "<PRE>\n",
        "Copyright (c) 2024 Bálint Gyires-Tóth - All Rights Reserved\n",
        "You may use and modify this code for research and development purpuses.\n",
        "Using this code for educational purposes (self-paced or instructor led) without the permission of the author is prohibited.\n",
        "</PRE>"
      ]
    },
    {
      "cell_type": "markdown",
      "source": [
        "# Example of data exploration, modeling, regulartion and prediction\n",
        "Our exercise today involves loading a standard dataset using TensorFlow Keras API, exploring the data, building a simple neural network, and evaluating the effects of basic methods (activation functions, regularization, weight initialization, etc.). We then perform predictions on the test set and inspect the results."
      ],
      "metadata": {
        "id": "3EX4cCa4WKJu"
      }
    },
    {
      "cell_type": "markdown",
      "source": [
        "# 1. Data\n",
        "The dataset we will use is the well-known CIFAR10 (Canadian Institute For Advanced Research). Explore the details on the Keras website first: https://keras.io/api/datasets/cifar10/\n",
        "\n",
        "After you explored the basic features of the data, let's load it into the memory and explore the shapes:"
      ],
      "metadata": {
        "id": "yY9fztIeWIKt"
      }
    },
    {
      "cell_type": "code",
      "source": [
        "from tensorflow.keras.datasets import cifar10\n",
        "from tensorflow.keras.utils import to_categorical\n",
        "import numpy as np"
      ],
      "metadata": {
        "id": "giRZKTjzX_7l"
      },
      "execution_count": 2,
      "outputs": []
    },
    {
      "cell_type": "code",
      "source": [
        "(X_train, Y_train), (X_test, Y_test) = cifar10.load_data()"
      ],
      "metadata": {
        "id": "bez7q0eiWQCK",
        "colab": {
          "base_uri": "https://localhost:8080/"
        },
        "outputId": "df50f601-054d-4787-889c-4b9796c3cb4a"
      },
      "execution_count": 3,
      "outputs": [
        {
          "output_type": "stream",
          "name": "stdout",
          "text": [
            "Downloading data from https://www.cs.toronto.edu/~kriz/cifar-10-python.tar.gz\n",
            "170498071/170498071 [==============================] - 4s 0us/step\n"
          ]
        }
      ]
    },
    {
      "cell_type": "code",
      "source": [
        "print(X_train.shape)\n",
        "print(X_test.shape)\n",
        "print(Y_train.shape)\n",
        "print(Y_test.shape)"
      ],
      "metadata": {
        "id": "2tJoRq5wXywi",
        "colab": {
          "base_uri": "https://localhost:8080/"
        },
        "outputId": "b9da07f8-a176-410f-b4b2-870a731d2b47"
      },
      "execution_count": 4,
      "outputs": [
        {
          "output_type": "stream",
          "name": "stdout",
          "text": [
            "(50000, 32, 32, 3)\n",
            "(10000, 32, 32, 3)\n",
            "(50000, 1)\n",
            "(10000, 1)\n"
          ]
        }
      ]
    },
    {
      "cell_type": "markdown",
      "source": [
        "## 1.1. Exercise\n",
        "Display the first ten images of the training data. Hints:\n",
        "* Axis 0 refers to the separate images, e.g. X_train[0]\n",
        "* You can use the [Matplotlib Pyplot imshow function](https://matplotlib.org/stable/api/_as_gen/matplotlib.pyplot.imshow.html) for displaying the image. Just don't forget to import Plotly first!\n",
        "* A corresponding example, but you have to modify the code for your purpose: https://stackoverflow.com/questions/46615554/how-to-display-multiple-images-in-one-figure-correctly"
      ],
      "metadata": {
        "id": "zTCSGFyDlNvf"
      }
    },
    {
      "cell_type": "code",
      "source": [
        "import matplotlib.pyplot as plt\n",
        "images = X_train[:10]\n",
        "\n",
        "# Plotting the images\n",
        "fig, axes = plt.subplots(1, 10, figsize=(20, 2))\n",
        "for i, ax in enumerate(axes.flat):\n",
        "    ax.imshow(images[i])\n",
        "    ax.axis('off')  # To not display axes for clarity\n",
        "\n",
        "plt.show()"
      ],
      "metadata": {
        "id": "hIQhHTppmBdO",
        "outputId": "981b5d42-595e-4ae3-cf18-23f42f56c5ae",
        "colab": {
          "base_uri": "https://localhost:8080/",
          "height": 141
        }
      },
      "execution_count": 6,
      "outputs": [
        {
          "output_type": "display_data",
          "data": {
            "text/plain": [
              "<Figure size 2000x200 with 10 Axes>"
            ],
            "image/png": "[encoded data removed]"
          },
          "metadata": {}
        }
      ]
    },
    {
      "cell_type": "markdown",
      "source": [
        "Print the corresponding labels of the displayed images from the target variable (Y_train):"
      ],
      "metadata": {
        "id": "FAQkUWlmm-bc"
      }
    },
    {
      "cell_type": "code",
      "source": [
        "print(Y_train[:10])"
      ],
      "metadata": {
        "id": "AkOrWzghnJ78",
        "outputId": "81d1b633-9396-425e-88a0-63a946cd93d7",
        "colab": {
          "base_uri": "https://localhost:8080/"
        }
      },
      "execution_count": 7,
      "outputs": [
        {
          "output_type": "stream",
          "name": "stdout",
          "text": [
            "[[6]\n",
            " [9]\n",
            " [9]\n",
            " [4]\n",
            " [1]\n",
            " [1]\n",
            " [2]\n",
            " [7]\n",
            " [8]\n",
            " [3]]\n"
          ]
        }
      ]
    },
    {
      "cell_type": "markdown",
      "source": [
        "## 1.2. Exercise\n",
        "We will train a Multi-Layer Perceptron (MLP), which requires a 2 dimensional input: 0th axis refers to the datapoints (i.e. images), the 1th dimens to the input. As images are 3 dimensional (width, height, color channels), you have to reshape the images into vectors. We also call this flattening.\n",
        "\n",
        "In order to do so, calculate the size of the equivalent 1D vector of the image:"
      ],
      "metadata": {
        "id": "VX24g5FstsRU"
      }
    },
    {
      "cell_type": "code",
      "source": [
        "flattened_dim = X_train.shape[1] * X_train.shape[2] * X_train.shape[3]"
      ],
      "metadata": {
        "id": "hdoMyxHzuXZG"
      },
      "execution_count": 8,
      "outputs": []
    },
    {
      "cell_type": "markdown",
      "source": [
        "After you calculated it, we can reshape the images, and covert the integer arrays into float arrays -- which are needed for the neural networks as input. Hint:\n",
        "* in the [reshape() function of Numpy](https://www.w3schools.com/python/numpy/numpy_array_reshape.asp) you can use -1 for one axis, to automatically calculate that value."
      ],
      "metadata": {
        "id": "WbqXJUSFubeC"
      }
    },
    {
      "cell_type": "code",
      "source": [
        "# reshape 3D tensors to 2D tensors\n",
        "X_train = X_train.reshape(X_train.shape[0], flattened_dim)\n",
        "X_test = X_test.reshape(X_test.shape[0], flattened_dim)\n",
        "\n",
        "# it is in int8 format, the neural network requires float32\n",
        "X_train = X_train.astype(\"float32\")\n",
        "X_test = X_test.astype(\"float32\")"
      ],
      "metadata": {
        "id": "vukOcBM0XzSj"
      },
      "execution_count": 9,
      "outputs": []
    },
    {
      "cell_type": "markdown",
      "source": [
        "## 1.3. Exercise\n",
        "As the next step, let's split the training data into training and validation data. 80% of the original training data should be the final training data, and 20% the validation.\n",
        "You should use Numpy indexing to select the first 80% of X_train as final X_train, and the last 20% as X_valid. Hints:\n",
        "* https://datascienceparichay.com/article/numpy-array-first-n-rows/\n",
        "* https://datascienceparichay.com/article/numpy-array-last-n-rows/"
      ],
      "metadata": {
        "id": "DO79AdIdvVfD"
      }
    },
    {
      "cell_type": "code",
      "source": [
        "train_ratio  = 0.8\n",
        "total_samples = X_train.shape[0]\n",
        "train_length = int(total_samples * train_ratio) # length of the training data\n",
        "train_split  = train_length # where to split the training and validation data\n",
        "X_valid, Y_valid = X_train[train_split:], Y_train[train_split:]\n",
        "X_train, Y_train = X_train[:train_split], Y_train[:train_split]"
      ],
      "metadata": {
        "id": "mRwuWxxIxLgN"
      },
      "execution_count": 10,
      "outputs": []
    },
    {
      "cell_type": "markdown",
      "source": [
        "## 1.4. Exercise\n",
        "As the last step of input data preparation, the data should be standardized. Calculate the mean and variance of the training data (elementvise -- so for each value of the flattened image you should get a mean and variance for the training data along 0th axis). Hint:\n",
        "* https://stackoverflow.com/questions/70626231/how-to-calculate-mean-variance-standard-deviation-per-index-of-array"
      ],
      "metadata": {
        "id": "z05y_QWDxWER"
      }
    },
    {
      "cell_type": "code",
      "source": [
        "mean = np.mean(X_train, axis=0)\n",
        "std  = np.std(X_train, axis=0)"
      ],
      "metadata": {
        "id": "TSZbvWCBx8Ea"
      },
      "execution_count": 11,
      "outputs": []
    },
    {
      "cell_type": "markdown",
      "source": [
        "Next, use the resulting values to standardize the training, validation and test data by substracting the mean and dividing the result with the standard deviation."
      ],
      "metadata": {
        "id": "6WRHKkkjyN1S"
      }
    },
    {
      "cell_type": "code",
      "source": [
        "X_train = (X_train - mean) / std\n",
        "X_valid = (X_valid - mean) / std\n",
        "X_test  = (X_test - mean) / std"
      ],
      "metadata": {
        "id": "2ESLP1EIyB2J"
      },
      "execution_count": 12,
      "outputs": []
    },
    {
      "cell_type": "markdown",
      "source": [
        "## 1.5. Exercise\n",
        "And as the last step, convert the dense representation of the classes (i.e. 0,1,2,3...9) to one-hot encoding (0 = [1 0 0 0 0 0 0 0 0 0], 1 = [0 1 0 0 0 0 0 0 0 0] ... 9 = [0 0 0 0 0 0 0 0 0 1]). To do this, first, calculate the number of unique elements in the target training data. Hints:\n",
        "* use the [unique() function](https://numpy.org/doc/stable/reference/generated/numpy.unique.html) of Numpy to list the unique elements\n",
        "* you can count the number of elements in a list with the [len() function](https://www.w3schools.com/python/ref_func_len.asp)"
      ],
      "metadata": {
        "id": "ooHCnUin7r4o"
      }
    },
    {
      "cell_type": "code",
      "source": [
        "nb_classes = len(np.unique(Y_train))"
      ],
      "metadata": {
        "id": "i0LAO9cs8KEE"
      },
      "execution_count": 13,
      "outputs": []
    },
    {
      "cell_type": "markdown",
      "source": [
        "Doublecheck, if the same number of classes exists in the validation and test target data:"
      ],
      "metadata": {
        "id": "BvM6XhGe8JU9"
      }
    },
    {
      "cell_type": "code",
      "source": [
        "print(\"Validation data has the same number of classes, as the training data:\", nb_classes == len(np.unique(Y_valid)))\n",
        "print(\"Test data has the same number of classes, as the training data:\", nb_classes == len(np.unique(Y_test)))"
      ],
      "metadata": {
        "id": "eZFNSsyx_Py2",
        "outputId": "eebd21f9-0af9-4672-c882-d925ca19a876",
        "colab": {
          "base_uri": "https://localhost:8080/"
        }
      },
      "execution_count": 14,
      "outputs": [
        {
          "output_type": "stream",
          "name": "stdout",
          "text": [
            "Validation data has the same number of classes, as the training data: True\n",
            "Test data has the same number of classes, as the training data: True\n"
          ]
        }
      ]
    },
    {
      "cell_type": "markdown",
      "source": [
        "And convert the dense representation into one-hot encoding. Hint:\n",
        "* use the [to_categorical function](https://www.tensorflow.org/api_docs/python/tf/keras/utils/to_categorical) with the calculated nb_classes\n"
      ],
      "metadata": {
        "id": "mJM-iBmR8dLe"
      }
    },
    {
      "cell_type": "code",
      "source": [
        "Y_train = to_categorical(Y_train, nb_classes)\n",
        "Y_valid = to_categorical(Y_valid, nb_classes)\n",
        "Y_test  = to_categorical(Y_test, nb_classes)"
      ],
      "metadata": {
        "id": "xwZ4OJ6I8lba"
      },
      "execution_count": 15,
      "outputs": []
    },
    {
      "cell_type": "markdown",
      "source": [
        "## Final check of data preparation\n",
        "Now, lets check the shapes and mean and standard deviation of the training, validation and test data."
      ],
      "metadata": {
        "id": "LshN2OSsv3TZ"
      }
    },
    {
      "cell_type": "code",
      "source": [
        "print(\"Shapes of the training, validation and test input data:\", X_train.shape, X_valid.shape, X_test.shape)\n",
        "print(\"Shapes of the training, validation and test output data:\", Y_train.shape, Y_valid.shape, Y_test.shape)\n",
        "print(\"Mean values of the training, validation and test input data:\", X_train.mean(), X_valid.mean(), X_test.mean())\n",
        "print(\"Standard deviation of the training, validation and test input data:\", X_train.std(), X_valid.std(), X_test.std())"
      ],
      "metadata": {
        "id": "O_jdJVcvX0vi",
        "outputId": "cdd2e176-e526-4ffa-a6ce-c43b9667b0cf",
        "colab": {
          "base_uri": "https://localhost:8080/"
        }
      },
      "execution_count": 16,
      "outputs": [
        {
          "output_type": "stream",
          "name": "stdout",
          "text": [
            "Shapes of the training, validation and test input data: (40000, 3072) (10000, 3072) (10000, 3072)\n",
            "Shapes of the training, validation and test output data: (40000, 10) (10000, 10) (10000, 10)\n",
            "Mean values of the training, validation and test input data: -2.4725992e-09 0.0023437182 0.013331188\n",
            "Standard deviation of the training, validation and test input data: 1.0000038 0.99656224 0.9978297\n"
          ]
        }
      ]
    },
    {
      "cell_type": "markdown",
      "source": [
        "Don't worry, if the mean and standard deviation of the validation and test data are not exactly 0 and 1, but these might be very mear to it (e.g. 0.01 mean, 0.99 variance)."
      ],
      "metadata": {
        "id": "5GtAOOoezmZY"
      }
    },
    {
      "cell_type": "markdown",
      "metadata": {
        "id": "cJ14oyZExpqj"
      },
      "source": [
        "# 2. Training"
      ]
    },
    {
      "cell_type": "markdown",
      "metadata": {
        "id": "s4ZXYRMBxpql"
      },
      "source": [
        "Let us begin with a simple example of creating a small neural network without regularization and training it with actual data. The purpose of this is to provide you with an example as to how to proceed with the next exercise."
      ]
    },
    {
      "cell_type": "code",
      "source": [
        "# imports\n",
        "import numpy as np\n",
        "import matplotlib.pyplot as plt\n",
        "from tensorflow.keras.models import Sequential\n",
        "from tensorflow.keras.layers import Dense, Embedding, Flatten, Dropout, BatchNormalization\n",
        "from tensorflow.keras.initializers import HeNormal\n",
        "from tensorflow.keras.callbacks import EarlyStopping"
      ],
      "metadata": {
        "id": "6-8Q6ll7ZDgq"
      },
      "execution_count": 54,
      "outputs": []
    },
    {
      "cell_type": "code",
      "source": [
        "# model definition\n",
        "model = Sequential()\n",
        "model.add(Dense(128, activation='tanh', input_shape=(flattened_dim,)))\n",
        "model.add(Dense(128, activation='tanh'))\n",
        "model.add(Dense(nb_classes, activation='softmax'))\n",
        "\n",
        "# loss function and optimizer\n",
        "model.compile(loss='categorical_crossentropy', optimizer='adam', metrics=['accuracy'])"
      ],
      "metadata": {
        "id": "pke6w3CD8DHp"
      },
      "execution_count": 18,
      "outputs": []
    },
    {
      "cell_type": "code",
      "metadata": {
        "id": "CZbOR76QxprC",
        "outputId": "47a24df5-7650-4255-c753-25aa54922edb",
        "colab": {
          "base_uri": "https://localhost:8080/"
        }
      },
      "source": [
        "# training\n",
        "network_history = model.fit(X_train, Y_train,\n",
        "                            validation_data=(X_valid,Y_valid),\n",
        "                            batch_size=128,\n",
        "                            epochs=40,\n",
        "                            verbose=1)"
      ],
      "execution_count": 19,
      "outputs": [
        {
          "output_type": "stream",
          "name": "stdout",
          "text": [
            "Epoch 1/40\n",
            "313/313 [==============================] - 4s 7ms/step - loss: 1.8153 - accuracy: 0.3643 - val_loss: 1.7556 - val_accuracy: 0.3912\n",
            "Epoch 2/40\n",
            "313/313 [==============================] - 1s 4ms/step - loss: 1.6897 - accuracy: 0.4081 - val_loss: 1.7132 - val_accuracy: 0.4099\n",
            "Epoch 3/40\n",
            "313/313 [==============================] - 1s 4ms/step - loss: 1.6352 - accuracy: 0.4320 - val_loss: 1.7222 - val_accuracy: 0.4034\n",
            "Epoch 4/40\n",
            "313/313 [==============================] - 1s 4ms/step - loss: 1.5936 - accuracy: 0.4478 - val_loss: 1.6893 - val_accuracy: 0.4121\n",
            "Epoch 5/40\n",
            "313/313 [==============================] - 1s 4ms/step - loss: 1.5612 - accuracy: 0.4596 - val_loss: 1.6731 - val_accuracy: 0.4190\n",
            "Epoch 6/40\n",
            "313/313 [==============================] - 1s 4ms/step - loss: 1.5341 - accuracy: 0.4687 - val_loss: 1.6543 - val_accuracy: 0.4240\n",
            "Epoch 7/40\n",
            "313/313 [==============================] - 1s 4ms/step - loss: 1.5002 - accuracy: 0.4810 - val_loss: 1.6588 - val_accuracy: 0.4279\n",
            "Epoch 8/40\n",
            "313/313 [==============================] - 2s 6ms/step - loss: 1.4696 - accuracy: 0.4898 - val_loss: 1.6428 - val_accuracy: 0.4354\n",
            "Epoch 9/40\n",
            "313/313 [==============================] - 2s 6ms/step - loss: 1.4522 - accuracy: 0.4947 - val_loss: 1.6425 - val_accuracy: 0.4358\n",
            "Epoch 10/40\n",
            "313/313 [==============================] - 1s 4ms/step - loss: 1.4208 - accuracy: 0.5092 - val_loss: 1.6339 - val_accuracy: 0.4380\n",
            "Epoch 11/40\n",
            "313/313 [==============================] - 1s 4ms/step - loss: 1.3986 - accuracy: 0.5117 - val_loss: 1.6429 - val_accuracy: 0.4334\n",
            "Epoch 12/40\n",
            "313/313 [==============================] - 1s 5ms/step - loss: 1.3728 - accuracy: 0.5269 - val_loss: 1.6145 - val_accuracy: 0.4458\n",
            "Epoch 13/40\n",
            "313/313 [==============================] - 1s 5ms/step - loss: 1.3522 - accuracy: 0.5281 - val_loss: 1.6038 - val_accuracy: 0.4536\n",
            "Epoch 14/40\n",
            "313/313 [==============================] - 1s 4ms/step - loss: 1.3328 - accuracy: 0.5379 - val_loss: 1.6266 - val_accuracy: 0.4430\n",
            "Epoch 15/40\n",
            "313/313 [==============================] - 1s 4ms/step - loss: 1.3111 - accuracy: 0.5436 - val_loss: 1.6200 - val_accuracy: 0.4515\n",
            "Epoch 16/40\n",
            "313/313 [==============================] - 1s 4ms/step - loss: 1.2912 - accuracy: 0.5506 - val_loss: 1.6131 - val_accuracy: 0.4470\n",
            "Epoch 17/40\n",
            "313/313 [==============================] - 2s 6ms/step - loss: 1.2726 - accuracy: 0.5562 - val_loss: 1.6210 - val_accuracy: 0.4455\n",
            "Epoch 18/40\n",
            "313/313 [==============================] - 1s 4ms/step - loss: 1.2563 - accuracy: 0.5628 - val_loss: 1.6308 - val_accuracy: 0.4505\n",
            "Epoch 19/40\n",
            "313/313 [==============================] - 1s 5ms/step - loss: 1.2393 - accuracy: 0.5697 - val_loss: 1.6193 - val_accuracy: 0.4525\n",
            "Epoch 20/40\n",
            "313/313 [==============================] - 1s 4ms/step - loss: 1.2186 - accuracy: 0.5764 - val_loss: 1.6235 - val_accuracy: 0.4536\n",
            "Epoch 21/40\n",
            "313/313 [==============================] - 1s 4ms/step - loss: 1.2014 - accuracy: 0.5819 - val_loss: 1.6372 - val_accuracy: 0.4523\n",
            "Epoch 22/40\n",
            "313/313 [==============================] - 1s 5ms/step - loss: 1.1800 - accuracy: 0.5878 - val_loss: 1.6365 - val_accuracy: 0.4502\n",
            "Epoch 23/40\n",
            "313/313 [==============================] - 1s 4ms/step - loss: 1.1534 - accuracy: 0.5988 - val_loss: 1.6552 - val_accuracy: 0.4489\n",
            "Epoch 24/40\n",
            "313/313 [==============================] - 1s 5ms/step - loss: 1.1528 - accuracy: 0.5985 - val_loss: 1.6573 - val_accuracy: 0.4507\n",
            "Epoch 25/40\n",
            "313/313 [==============================] - 2s 5ms/step - loss: 1.1341 - accuracy: 0.6072 - val_loss: 1.6679 - val_accuracy: 0.4486\n",
            "Epoch 26/40\n",
            "313/313 [==============================] - 2s 5ms/step - loss: 1.1089 - accuracy: 0.6178 - val_loss: 1.6724 - val_accuracy: 0.4502\n",
            "Epoch 27/40\n",
            "313/313 [==============================] - 2s 5ms/step - loss: 1.0951 - accuracy: 0.6184 - val_loss: 1.6851 - val_accuracy: 0.4495\n",
            "Epoch 28/40\n",
            "313/313 [==============================] - 1s 5ms/step - loss: 1.0707 - accuracy: 0.6279 - val_loss: 1.6804 - val_accuracy: 0.4506\n",
            "Epoch 29/40\n",
            "313/313 [==============================] - 1s 5ms/step - loss: 1.0567 - accuracy: 0.6327 - val_loss: 1.6918 - val_accuracy: 0.4485\n",
            "Epoch 30/40\n",
            "313/313 [==============================] - 1s 4ms/step - loss: 1.0456 - accuracy: 0.6384 - val_loss: 1.7007 - val_accuracy: 0.4534\n",
            "Epoch 31/40\n",
            "313/313 [==============================] - 1s 5ms/step - loss: 1.0257 - accuracy: 0.6441 - val_loss: 1.7123 - val_accuracy: 0.4555\n",
            "Epoch 32/40\n",
            "313/313 [==============================] - 1s 5ms/step - loss: 1.0162 - accuracy: 0.6470 - val_loss: 1.7265 - val_accuracy: 0.4475\n",
            "Epoch 33/40\n",
            "313/313 [==============================] - 2s 5ms/step - loss: 0.9921 - accuracy: 0.6599 - val_loss: 1.7289 - val_accuracy: 0.4523\n",
            "Epoch 34/40\n",
            "313/313 [==============================] - 2s 5ms/step - loss: 0.9851 - accuracy: 0.6600 - val_loss: 1.7434 - val_accuracy: 0.4534\n",
            "Epoch 35/40\n",
            "313/313 [==============================] - 1s 4ms/step - loss: 0.9691 - accuracy: 0.6675 - val_loss: 1.7637 - val_accuracy: 0.4411\n",
            "Epoch 36/40\n",
            "313/313 [==============================] - 1s 4ms/step - loss: 0.9503 - accuracy: 0.6749 - val_loss: 1.7585 - val_accuracy: 0.4500\n",
            "Epoch 37/40\n",
            "313/313 [==============================] - 1s 4ms/step - loss: 0.9408 - accuracy: 0.6734 - val_loss: 1.7847 - val_accuracy: 0.4466\n",
            "Epoch 38/40\n",
            "313/313 [==============================] - 2s 5ms/step - loss: 0.9238 - accuracy: 0.6818 - val_loss: 1.7884 - val_accuracy: 0.4452\n",
            "Epoch 39/40\n",
            "313/313 [==============================] - 2s 5ms/step - loss: 0.9027 - accuracy: 0.6904 - val_loss: 1.8319 - val_accuracy: 0.4359\n",
            "Epoch 40/40\n",
            "313/313 [==============================] - 1s 5ms/step - loss: 0.8937 - accuracy: 0.6901 - val_loss: 1.8109 - val_accuracy: 0.4436\n"
          ]
        }
      ]
    },
    {
      "cell_type": "markdown",
      "metadata": {
        "id": "uFqhzV85xprJ"
      },
      "source": [
        "Let's plot the training and validation loss and accuracy curves:"
      ]
    },
    {
      "cell_type": "code",
      "metadata": {
        "id": "BYmXGkLCxprK",
        "outputId": "0260bd71-d7a2-40c3-f9eb-4905a0609ccb",
        "colab": {
          "base_uri": "https://localhost:8080/",
          "height": 881
        }
      },
      "source": [
        "def plot_history(network_history):\n",
        "    plt.figure()\n",
        "    plt.xlabel('Epochs')\n",
        "    plt.ylabel('Loss')\n",
        "    plt.plot(network_history.history['loss'])\n",
        "    plt.plot(network_history.history['val_loss'])\n",
        "    plt.legend(['Training', 'Validation'])\n",
        "\n",
        "    plt.figure()\n",
        "    plt.xlabel('Epochs')\n",
        "    plt.ylabel('Accuracy')\n",
        "    plt.plot(network_history.history['accuracy'])\n",
        "    plt.plot(network_history.history['val_accuracy'])\n",
        "    plt.legend(['Training', 'Validation'], loc='lower right')\n",
        "    plt.show()\n",
        "\n",
        "plot_history(network_history)"
      ],
      "execution_count": 20,
      "outputs": [
        {
          "output_type": "display_data",
          "data": {
            "text/plain": [
              "<Figure size 640x480 with 1 Axes>"
            ],
            "image/png": "[encoded data removed]"
          },
          "metadata": {}
        },
        {
          "output_type": "display_data",
          "data": {
            "text/plain": [
              "<Figure size 640x480 with 1 Axes>"
            ],
            "image/png": "[encoded data removed]"
          },
          "metadata": {}
        }
      ]
    },
    {
      "cell_type": "markdown",
      "source": [
        "What do you think? Does it overfit?\n",
        "\n",
        "The model overfits, the validation loss reduces up to the 10th epoch, but after that starts increasing while the training loss is reducing"
      ],
      "metadata": {
        "id": "tgG7QeXF-dx6"
      }
    },
    {
      "cell_type": "markdown",
      "metadata": {
        "id": "_Q9rIeBBxprO"
      },
      "source": [
        "# Inspecting the model"
      ]
    },
    {
      "cell_type": "code",
      "metadata": {
        "id": "6r2AmmoMxprP",
        "outputId": "e66810b2-dcf4-4055-8efd-6b11a2a3c0cb",
        "colab": {
          "base_uri": "https://localhost:8080/"
        }
      },
      "source": [
        "model.summary()"
      ],
      "execution_count": 21,
      "outputs": [
        {
          "output_type": "stream",
          "name": "stdout",
          "text": [
            "Model: \"sequential\"\n",
            "_________________________________________________________________\n",
            " Layer (type)                Output Shape              Param #   \n",
            "=================================================================\n",
            " dense (Dense)               (None, 128)               393344    \n",
            "                                                                 \n",
            " dense_1 (Dense)             (None, 128)               16512     \n",
            "                                                                 \n",
            " dense_2 (Dense)             (None, 10)                1290      \n",
            "                                                                 \n",
            "=================================================================\n",
            "Total params: 411146 (1.57 MB)\n",
            "Trainable params: 411146 (1.57 MB)\n",
            "Non-trainable params: 0 (0.00 Byte)\n",
            "_________________________________________________________________\n"
          ]
        }
      ]
    },
    {
      "cell_type": "code",
      "metadata": {
        "id": "D3-bVDVuxprS",
        "outputId": "68270f43-a5fd-485e-a69c-60427ad3b5cb",
        "colab": {
          "base_uri": "https://localhost:8080/"
        }
      },
      "source": [
        "print('Input: ', model.input)"
      ],
      "execution_count": 22,
      "outputs": [
        {
          "output_type": "stream",
          "name": "stdout",
          "text": [
            "Input:  KerasTensor(type_spec=TensorSpec(shape=(None, 3072), dtype=tf.float32, name='dense_input'), name='dense_input', description=\"created by layer 'dense_input'\")\n"
          ]
        }
      ]
    },
    {
      "cell_type": "code",
      "metadata": {
        "id": "Da2OJ3DmxprX",
        "outputId": "7ed7d855-e327-43cc-f4e6-1fdee5f7edca",
        "colab": {
          "base_uri": "https://localhost:8080/"
        }
      },
      "source": [
        "print('Layers:\\n')\n",
        "for layer in model.layers:\n",
        "    print(\"Layer's name: \", layer.name, ', trainable: ', layer.trainable)\n",
        "    print(layer.get_config(),'\\n')"
      ],
      "execution_count": 23,
      "outputs": [
        {
          "output_type": "stream",
          "name": "stdout",
          "text": [
            "Layers:\n",
            "\n",
            "Layer's name:  dense , trainable:  True\n",
            "{'name': 'dense', 'trainable': True, 'dtype': 'float32', 'batch_input_shape': (None, 3072), 'units': 128, 'activation': 'tanh', 'use_bias': True, 'kernel_initializer': {'module': 'keras.initializers', 'class_name': 'GlorotUniform', 'config': {'seed': None}, 'registered_name': None}, 'bias_initializer': {'module': 'keras.initializers', 'class_name': 'Zeros', 'config': {}, 'registered_name': None}, 'kernel_regularizer': None, 'bias_regularizer': None, 'activity_regularizer': None, 'kernel_constraint': None, 'bias_constraint': None} \n",
            "\n",
            "Layer's name:  dense_1 , trainable:  True\n",
            "{'name': 'dense_1', 'trainable': True, 'dtype': 'float32', 'units': 128, 'activation': 'tanh', 'use_bias': True, 'kernel_initializer': {'module': 'keras.initializers', 'class_name': 'GlorotUniform', 'config': {'seed': None}, 'registered_name': None}, 'bias_initializer': {'module': 'keras.initializers', 'class_name': 'Zeros', 'config': {}, 'registered_name': None}, 'kernel_regularizer': None, 'bias_regularizer': None, 'activity_regularizer': None, 'kernel_constraint': None, 'bias_constraint': None} \n",
            "\n",
            "Layer's name:  dense_2 , trainable:  True\n",
            "{'name': 'dense_2', 'trainable': True, 'dtype': 'float32', 'units': 10, 'activation': 'softmax', 'use_bias': True, 'kernel_initializer': {'module': 'keras.initializers', 'class_name': 'GlorotUniform', 'config': {'seed': None}, 'registered_name': None}, 'bias_initializer': {'module': 'keras.initializers', 'class_name': 'Zeros', 'config': {}, 'registered_name': None}, 'kernel_regularizer': None, 'bias_regularizer': None, 'activity_regularizer': None, 'kernel_constraint': None, 'bias_constraint': None} \n",
            "\n"
          ]
        }
      ]
    },
    {
      "cell_type": "code",
      "metadata": {
        "id": "AtVX3M3lxprc",
        "outputId": "75357da0-1942-47f4-e18e-0a6e55edccfd",
        "colab": {
          "base_uri": "https://localhost:8080/"
        }
      },
      "source": [
        "print('Output: ', model.output)"
      ],
      "execution_count": 24,
      "outputs": [
        {
          "output_type": "stream",
          "name": "stdout",
          "text": [
            "Output:  KerasTensor(type_spec=TensorSpec(shape=(None, 10), dtype=tf.float32, name=None), name='dense_2/Softmax:0', description=\"created by layer 'dense_2'\")\n"
          ]
        }
      ]
    },
    {
      "cell_type": "markdown",
      "source": [
        "## 2.1. Exercise\n",
        "Introduce [early stopping](https://www.tensorflow.org/api_docs/python/tf/keras/callbacks/EarlyStopping) and [dropout](https://www.tensorflow.org/api_docs/python/tf/keras/layers/Dropout) with a rate between 0.1..0.5. Tips:\n",
        "\n",
        "* Insert the dropout layer between the two Dense layers.\n",
        "* Set the patience of early stopping to 5.\n",
        "* Set the number of epochs to a very high number.\n",
        "* Don't forget to restore best weights after early stopping.\n",
        "* And also set early stopping to monitor validation accuracy (the default value is validation loss -- which is categorical crossentropy now).\n",
        "\n",
        "Compile and train the model. Attempt to increase the validation accuracy as much as possible by making changes to the dropout rate. Inspect the effects of the modifications."
      ],
      "metadata": {
        "id": "E-hHfs9qA_iO"
      }
    },
    {
      "cell_type": "code",
      "source": [
        "es = EarlyStopping(\n",
        "    monitor='val_accuracy',\n",
        "    patience=5,\n",
        "    min_delta=0.001,\n",
        "    restore_best_weights=True,\n",
        ")"
      ],
      "metadata": {
        "id": "NwXrPzOgEBG-"
      },
      "execution_count": 31,
      "outputs": []
    },
    {
      "cell_type": "code",
      "source": [
        "# model definition with dropout\n",
        "model = Sequential()\n",
        "model.add(Dense(128, activation='tanh', input_shape=(flattened_dim,)))\n",
        "model.add(Dropout(0.4))\n",
        "model.add(Dense(128, activation='tanh'))\n",
        "model.add(Dense(nb_classes, activation='softmax'))\n",
        "\n",
        "# loss function and optimizer\n",
        "model.compile(loss='categorical_crossentropy', optimizer='adam', metrics=['accuracy'])"
      ],
      "metadata": {
        "id": "7hZEGzj8GFwP"
      },
      "execution_count": 44,
      "outputs": []
    },
    {
      "cell_type": "code",
      "source": [
        "# training with early stopping\n",
        "network_history = model.fit(X_train, Y_train,\n",
        "                            validation_data=(X_valid,Y_valid),\n",
        "                            batch_size=128,\n",
        "                            epochs=100,\n",
        "                            verbose=1,\n",
        "                            callbacks=[es])"
      ],
      "metadata": {
        "id": "GCG54R-vGGWj",
        "outputId": "ed8c0809-80f0-471c-e6e7-d152452a4c4f",
        "colab": {
          "base_uri": "https://localhost:8080/"
        }
      },
      "execution_count": 45,
      "outputs": [
        {
          "output_type": "stream",
          "name": "stdout",
          "text": [
            "Epoch 1/100\n",
            "313/313 [==============================] - 4s 7ms/step - loss: 1.9180 - accuracy: 0.3195 - val_loss: 1.7884 - val_accuracy: 0.3772\n",
            "Epoch 2/100\n",
            "313/313 [==============================] - 1s 4ms/step - loss: 1.8077 - accuracy: 0.3628 - val_loss: 1.7420 - val_accuracy: 0.3907\n",
            "Epoch 3/100\n",
            "313/313 [==============================] - 1s 4ms/step - loss: 1.7760 - accuracy: 0.3751 - val_loss: 1.7286 - val_accuracy: 0.3937\n",
            "Epoch 4/100\n",
            "313/313 [==============================] - 1s 5ms/step - loss: 1.7386 - accuracy: 0.3914 - val_loss: 1.6982 - val_accuracy: 0.4066\n",
            "Epoch 5/100\n",
            "313/313 [==============================] - 1s 4ms/step - loss: 1.7160 - accuracy: 0.3976 - val_loss: 1.6899 - val_accuracy: 0.4136\n",
            "Epoch 6/100\n",
            "313/313 [==============================] - 1s 5ms/step - loss: 1.6947 - accuracy: 0.4069 - val_loss: 1.6808 - val_accuracy: 0.4161\n",
            "Epoch 7/100\n",
            "313/313 [==============================] - 1s 5ms/step - loss: 1.6847 - accuracy: 0.4146 - val_loss: 1.6575 - val_accuracy: 0.4240\n",
            "Epoch 8/100\n",
            "313/313 [==============================] - 3s 8ms/step - loss: 1.6657 - accuracy: 0.4164 - val_loss: 1.6501 - val_accuracy: 0.4298\n",
            "Epoch 9/100\n",
            "313/313 [==============================] - 2s 7ms/step - loss: 1.6518 - accuracy: 0.4238 - val_loss: 1.6444 - val_accuracy: 0.4259\n",
            "Epoch 10/100\n",
            "313/313 [==============================] - 1s 4ms/step - loss: 1.6379 - accuracy: 0.4259 - val_loss: 1.6320 - val_accuracy: 0.4342\n",
            "Epoch 11/100\n",
            "313/313 [==============================] - 2s 5ms/step - loss: 1.6279 - accuracy: 0.4327 - val_loss: 1.6292 - val_accuracy: 0.4335\n",
            "Epoch 12/100\n",
            "313/313 [==============================] - 2s 7ms/step - loss: 1.6080 - accuracy: 0.4363 - val_loss: 1.6113 - val_accuracy: 0.4366\n",
            "Epoch 13/100\n",
            "313/313 [==============================] - 2s 7ms/step - loss: 1.6030 - accuracy: 0.4385 - val_loss: 1.6121 - val_accuracy: 0.4402\n",
            "Epoch 14/100\n",
            "313/313 [==============================] - 2s 7ms/step - loss: 1.5977 - accuracy: 0.4382 - val_loss: 1.5974 - val_accuracy: 0.4407\n",
            "Epoch 15/100\n",
            "313/313 [==============================] - 2s 7ms/step - loss: 1.5808 - accuracy: 0.4443 - val_loss: 1.5882 - val_accuracy: 0.4434\n",
            "Epoch 16/100\n",
            "313/313 [==============================] - 2s 5ms/step - loss: 1.5701 - accuracy: 0.4498 - val_loss: 1.5810 - val_accuracy: 0.4471\n",
            "Epoch 17/100\n",
            "313/313 [==============================] - 1s 4ms/step - loss: 1.5689 - accuracy: 0.4494 - val_loss: 1.5713 - val_accuracy: 0.4523\n",
            "Epoch 18/100\n",
            "313/313 [==============================] - 2s 7ms/step - loss: 1.5579 - accuracy: 0.4530 - val_loss: 1.5641 - val_accuracy: 0.4522\n",
            "Epoch 19/100\n",
            "313/313 [==============================] - 1s 5ms/step - loss: 1.5470 - accuracy: 0.4569 - val_loss: 1.5600 - val_accuracy: 0.4534\n",
            "Epoch 20/100\n",
            "313/313 [==============================] - 2s 7ms/step - loss: 1.5320 - accuracy: 0.4598 - val_loss: 1.5524 - val_accuracy: 0.4566\n",
            "Epoch 21/100\n",
            "313/313 [==============================] - 3s 10ms/step - loss: 1.5375 - accuracy: 0.4598 - val_loss: 1.5535 - val_accuracy: 0.4549\n",
            "Epoch 22/100\n",
            "313/313 [==============================] - 2s 5ms/step - loss: 1.5271 - accuracy: 0.4628 - val_loss: 1.5465 - val_accuracy: 0.4576\n",
            "Epoch 23/100\n",
            "313/313 [==============================] - 2s 5ms/step - loss: 1.5212 - accuracy: 0.4650 - val_loss: 1.5392 - val_accuracy: 0.4650\n",
            "Epoch 24/100\n",
            "313/313 [==============================] - 2s 7ms/step - loss: 1.5115 - accuracy: 0.4663 - val_loss: 1.5349 - val_accuracy: 0.4640\n",
            "Epoch 25/100\n",
            "313/313 [==============================] - 2s 5ms/step - loss: 1.5079 - accuracy: 0.4690 - val_loss: 1.5326 - val_accuracy: 0.4606\n",
            "Epoch 26/100\n",
            "313/313 [==============================] - 1s 5ms/step - loss: 1.5016 - accuracy: 0.4715 - val_loss: 1.5318 - val_accuracy: 0.4598\n",
            "Epoch 27/100\n",
            "313/313 [==============================] - 3s 10ms/step - loss: 1.4917 - accuracy: 0.4728 - val_loss: 1.5313 - val_accuracy: 0.4652\n",
            "Epoch 28/100\n",
            "313/313 [==============================] - 2s 6ms/step - loss: 1.4925 - accuracy: 0.4766 - val_loss: 1.5127 - val_accuracy: 0.4675\n",
            "Epoch 29/100\n",
            "313/313 [==============================] - 2s 6ms/step - loss: 1.4870 - accuracy: 0.4735 - val_loss: 1.5200 - val_accuracy: 0.4625\n",
            "Epoch 30/100\n",
            "313/313 [==============================] - 2s 6ms/step - loss: 1.4836 - accuracy: 0.4767 - val_loss: 1.5233 - val_accuracy: 0.4706\n",
            "Epoch 31/100\n",
            "313/313 [==============================] - 2s 5ms/step - loss: 1.4770 - accuracy: 0.4776 - val_loss: 1.5183 - val_accuracy: 0.4648\n",
            "Epoch 32/100\n",
            "313/313 [==============================] - 2s 6ms/step - loss: 1.4710 - accuracy: 0.4796 - val_loss: 1.5172 - val_accuracy: 0.4629\n",
            "Epoch 33/100\n",
            "313/313 [==============================] - 2s 6ms/step - loss: 1.4687 - accuracy: 0.4807 - val_loss: 1.5098 - val_accuracy: 0.4708\n",
            "Epoch 34/100\n",
            "313/313 [==============================] - 3s 9ms/step - loss: 1.4662 - accuracy: 0.4809 - val_loss: 1.5130 - val_accuracy: 0.4629\n",
            "Epoch 35/100\n",
            "313/313 [==============================] - 2s 5ms/step - loss: 1.4638 - accuracy: 0.4800 - val_loss: 1.5123 - val_accuracy: 0.4670\n"
          ]
        }
      ]
    },
    {
      "cell_type": "markdown",
      "source": [
        "## 2.2 Exercise\n",
        "Change the [activation function of the dense layers (except the last one)](https://www.tensorflow.org/api_docs/python/tf/keras/layers/Dense) to rectified linear unit (ReLU) and the [weight initialization](https://www.tensorflow.org/api_docs/python/tf/keras/initializers) to the theoretically best one. Use the original model's code.\n",
        "\n",
        "Compile and train the model. Inspect the effects of the modifications."
      ],
      "metadata": {
        "id": "zQCDM1o1BBtF"
      }
    },
    {
      "cell_type": "code",
      "source": [
        "# model definition with relu\n",
        "model = Sequential()\n",
        "model.add(Dense(128, activation='relu', kernel_initializer='glorot_uniform', input_shape=(flattened_dim,)))\n",
        "model.add(Dense(128, activation='relu', kernel_initializer='glorot_uniform'))\n",
        "model.add(Dense(nb_classes, activation='softmax'))\n",
        "\n",
        "# loss function and optimizer\n",
        "model.compile(loss='categorical_crossentropy', optimizer='adam', metrics=['accuracy'])"
      ],
      "metadata": {
        "id": "YjHAAh-wGu9O"
      },
      "execution_count": 29,
      "outputs": []
    },
    {
      "cell_type": "code",
      "source": [
        "# training\n",
        "network_history = model.fit(X_train, Y_train,\n",
        "                            validation_data=(X_valid,Y_valid),\n",
        "                            batch_size=128,\n",
        "                            epochs=40,\n",
        "                            verbose=1)"
      ],
      "metadata": {
        "id": "rarwKM1wGxMz",
        "outputId": "cf9eb120-1455-4f6e-b3f9-21fcf8cc50a2",
        "colab": {
          "base_uri": "https://localhost:8080/"
        }
      },
      "execution_count": 30,
      "outputs": [
        {
          "output_type": "stream",
          "name": "stdout",
          "text": [
            "Epoch 1/40\n",
            "313/313 [==============================] - 3s 6ms/step - loss: 1.7651 - accuracy: 0.3883 - val_loss: 1.6519 - val_accuracy: 0.4243\n",
            "Epoch 2/40\n",
            "313/313 [==============================] - 1s 4ms/step - loss: 1.5203 - accuracy: 0.4694 - val_loss: 1.5833 - val_accuracy: 0.4550\n",
            "Epoch 3/40\n",
            "313/313 [==============================] - 1s 4ms/step - loss: 1.4095 - accuracy: 0.5063 - val_loss: 1.5321 - val_accuracy: 0.4677\n",
            "Epoch 4/40\n",
            "313/313 [==============================] - 1s 4ms/step - loss: 1.3153 - accuracy: 0.5388 - val_loss: 1.5056 - val_accuracy: 0.4834\n",
            "Epoch 5/40\n",
            "313/313 [==============================] - 1s 5ms/step - loss: 1.2468 - accuracy: 0.5635 - val_loss: 1.4742 - val_accuracy: 0.4964\n",
            "Epoch 6/40\n",
            "313/313 [==============================] - 2s 6ms/step - loss: 1.1879 - accuracy: 0.5850 - val_loss: 1.4886 - val_accuracy: 0.4954\n",
            "Epoch 7/40\n",
            "313/313 [==============================] - 1s 4ms/step - loss: 1.1328 - accuracy: 0.6050 - val_loss: 1.4782 - val_accuracy: 0.5060\n",
            "Epoch 8/40\n",
            "313/313 [==============================] - 2s 6ms/step - loss: 1.0823 - accuracy: 0.6204 - val_loss: 1.5228 - val_accuracy: 0.4956\n",
            "Epoch 9/40\n",
            "313/313 [==============================] - 2s 5ms/step - loss: 1.0344 - accuracy: 0.6345 - val_loss: 1.5110 - val_accuracy: 0.5031\n",
            "Epoch 10/40\n",
            "313/313 [==============================] - 1s 4ms/step - loss: 0.9915 - accuracy: 0.6536 - val_loss: 1.5299 - val_accuracy: 0.5041\n",
            "Epoch 11/40\n",
            "313/313 [==============================] - 1s 4ms/step - loss: 0.9440 - accuracy: 0.6705 - val_loss: 1.5615 - val_accuracy: 0.4985\n",
            "Epoch 12/40\n",
            "313/313 [==============================] - 1s 4ms/step - loss: 0.9068 - accuracy: 0.6832 - val_loss: 1.5973 - val_accuracy: 0.4989\n",
            "Epoch 13/40\n",
            "313/313 [==============================] - 1s 5ms/step - loss: 0.8700 - accuracy: 0.6942 - val_loss: 1.6479 - val_accuracy: 0.4979\n",
            "Epoch 14/40\n",
            "313/313 [==============================] - 2s 7ms/step - loss: 0.8294 - accuracy: 0.7116 - val_loss: 1.6744 - val_accuracy: 0.4958\n",
            "Epoch 15/40\n",
            "313/313 [==============================] - 1s 5ms/step - loss: 0.7992 - accuracy: 0.7198 - val_loss: 1.7225 - val_accuracy: 0.5006\n",
            "Epoch 16/40\n",
            "313/313 [==============================] - 1s 4ms/step - loss: 0.7631 - accuracy: 0.7325 - val_loss: 1.7480 - val_accuracy: 0.5020\n",
            "Epoch 17/40\n",
            "313/313 [==============================] - 1s 4ms/step - loss: 0.7313 - accuracy: 0.7469 - val_loss: 1.8080 - val_accuracy: 0.4914\n",
            "Epoch 18/40\n",
            "313/313 [==============================] - 1s 4ms/step - loss: 0.7011 - accuracy: 0.7548 - val_loss: 1.8768 - val_accuracy: 0.4908\n",
            "Epoch 19/40\n",
            "313/313 [==============================] - 1s 4ms/step - loss: 0.6668 - accuracy: 0.7649 - val_loss: 1.9235 - val_accuracy: 0.4908\n",
            "Epoch 20/40\n",
            "313/313 [==============================] - 1s 4ms/step - loss: 0.6337 - accuracy: 0.7795 - val_loss: 1.9824 - val_accuracy: 0.4885\n",
            "Epoch 21/40\n",
            "313/313 [==============================] - 2s 5ms/step - loss: 0.6099 - accuracy: 0.7877 - val_loss: 2.0251 - val_accuracy: 0.4840\n",
            "Epoch 22/40\n",
            "313/313 [==============================] - 2s 6ms/step - loss: 0.5951 - accuracy: 0.7899 - val_loss: 2.0714 - val_accuracy: 0.4937\n",
            "Epoch 23/40\n",
            "313/313 [==============================] - 1s 5ms/step - loss: 0.5626 - accuracy: 0.8016 - val_loss: 2.1334 - val_accuracy: 0.4841\n",
            "Epoch 24/40\n",
            "313/313 [==============================] - 1s 5ms/step - loss: 0.5368 - accuracy: 0.8133 - val_loss: 2.2133 - val_accuracy: 0.4836\n",
            "Epoch 25/40\n",
            "313/313 [==============================] - 1s 5ms/step - loss: 0.5136 - accuracy: 0.8207 - val_loss: 2.2747 - val_accuracy: 0.4787\n",
            "Epoch 26/40\n",
            "313/313 [==============================] - 2s 5ms/step - loss: 0.5016 - accuracy: 0.8259 - val_loss: 2.3393 - val_accuracy: 0.4853\n",
            "Epoch 27/40\n",
            "313/313 [==============================] - 1s 5ms/step - loss: 0.4787 - accuracy: 0.8324 - val_loss: 2.4131 - val_accuracy: 0.4768\n",
            "Epoch 28/40\n",
            "313/313 [==============================] - 1s 4ms/step - loss: 0.4576 - accuracy: 0.8400 - val_loss: 2.4223 - val_accuracy: 0.4748\n",
            "Epoch 29/40\n",
            "313/313 [==============================] - 1s 5ms/step - loss: 0.4373 - accuracy: 0.8475 - val_loss: 2.5092 - val_accuracy: 0.4785\n",
            "Epoch 30/40\n",
            "313/313 [==============================] - 2s 6ms/step - loss: 0.4363 - accuracy: 0.8472 - val_loss: 2.5491 - val_accuracy: 0.4774\n",
            "Epoch 31/40\n",
            "313/313 [==============================] - 2s 5ms/step - loss: 0.3989 - accuracy: 0.8635 - val_loss: 2.6159 - val_accuracy: 0.4750\n",
            "Epoch 32/40\n",
            "313/313 [==============================] - 1s 4ms/step - loss: 0.3894 - accuracy: 0.8644 - val_loss: 2.7558 - val_accuracy: 0.4763\n",
            "Epoch 33/40\n",
            "313/313 [==============================] - 1s 5ms/step - loss: 0.3839 - accuracy: 0.8650 - val_loss: 2.7797 - val_accuracy: 0.4785\n",
            "Epoch 34/40\n",
            "313/313 [==============================] - 1s 4ms/step - loss: 0.3657 - accuracy: 0.8724 - val_loss: 2.8970 - val_accuracy: 0.4791\n",
            "Epoch 35/40\n",
            "313/313 [==============================] - 1s 4ms/step - loss: 0.3509 - accuracy: 0.8780 - val_loss: 2.9345 - val_accuracy: 0.4697\n",
            "Epoch 36/40\n",
            "313/313 [==============================] - 1s 4ms/step - loss: 0.3471 - accuracy: 0.8801 - val_loss: 3.0092 - val_accuracy: 0.4693\n",
            "Epoch 37/40\n",
            "313/313 [==============================] - 1s 4ms/step - loss: 0.3377 - accuracy: 0.8812 - val_loss: 3.0346 - val_accuracy: 0.4762\n",
            "Epoch 38/40\n",
            "313/313 [==============================] - 1s 5ms/step - loss: 0.3295 - accuracy: 0.8840 - val_loss: 3.1263 - val_accuracy: 0.4681\n",
            "Epoch 39/40\n",
            "313/313 [==============================] - 2s 6ms/step - loss: 0.3093 - accuracy: 0.8918 - val_loss: 3.1954 - val_accuracy: 0.4737\n",
            "Epoch 40/40\n",
            "313/313 [==============================] - 1s 4ms/step - loss: 0.2990 - accuracy: 0.8960 - val_loss: 3.2689 - val_accuracy: 0.4642\n"
          ]
        }
      ]
    },
    {
      "cell_type": "markdown",
      "source": [
        "# 2.3. Exercise\n",
        "Based on the modifications above, and by any further modifications (e.g. more layers, less layers, more neurons/layer, etc.) to the model design, find a combination that is able to achieve **validation accuracy, that is higher than 53%**.\n"
      ],
      "metadata": {
        "id": "j1tGVPdD-pp3"
      }
    },
    {
      "cell_type": "code",
      "source": [
        "es = es = EarlyStopping(\n",
        "    monitor='val_accuracy',\n",
        "    patience=5,\n",
        "    min_delta=0.001,\n",
        "    restore_best_weights=True,\n",
        ")"
      ],
      "metadata": {
        "id": "5dBQxJHIHrbd"
      },
      "execution_count": 98,
      "outputs": []
    },
    {
      "cell_type": "code",
      "source": [
        "# model definition\n",
        "model = Sequential()\n",
        "model.add(Dense(64, activation='relu',  input_shape=(flattened_dim,)))\n",
        "model.add(Dropout(0.1))\n",
        "model.add(BatchNormalization())\n",
        "\n",
        "model.add(Dense(128, activation='relu',kernel_initializer='glorot_uniform'))\n",
        "model.add(Dropout(0.1))\n",
        "\n",
        "model.add(Dense(256, activation='relu',kernel_initializer='glorot_uniform'))\n",
        "model.add(Dropout(0.1))\n",
        "\n",
        "model.add(Dense(512, activation='relu',kernel_initializer='glorot_uniform'))\n",
        "model.add(BatchNormalization())\n",
        "\n",
        "model.add(Dense(nb_classes, activation='softmax'))\n",
        "\n",
        "# loss function and optimizer\n",
        "model.compile(loss='categorical_crossentropy', optimizer=\"adam\", metrics=['accuracy'])"
      ],
      "metadata": {
        "id": "PuxHOqLt-3Nd"
      },
      "execution_count": 161,
      "outputs": []
    },
    {
      "cell_type": "code",
      "source": [
        "# training\n",
        "network_history = model.fit(X_train, Y_train,\n",
        "                            validation_data=(X_valid,Y_valid),\n",
        "                            batch_size=128,\n",
        "                            epochs=100,\n",
        "                            verbose=1,\n",
        "                            callbacks=[es])"
      ],
      "metadata": {
        "id": "u8tFNCNVHyt9",
        "outputId": "ebda83e5-3cdc-47ec-9714-61610a17aa35",
        "colab": {
          "base_uri": "https://localhost:8080/"
        }
      },
      "execution_count": 163,
      "outputs": [
        {
          "output_type": "stream",
          "name": "stdout",
          "text": [
            "Epoch 1/100\n",
            "313/313 [==============================] - 3s 9ms/step - loss: 1.2091 - accuracy: 0.5637 - val_loss: 1.3622 - val_accuracy: 0.5192\n",
            "Epoch 2/100\n",
            "313/313 [==============================] - 3s 8ms/step - loss: 1.1956 - accuracy: 0.5710 - val_loss: 1.3511 - val_accuracy: 0.5272\n",
            "Epoch 3/100\n",
            "313/313 [==============================] - 2s 7ms/step - loss: 1.1906 - accuracy: 0.5723 - val_loss: 1.3462 - val_accuracy: 0.5236\n",
            "Epoch 4/100\n",
            "313/313 [==============================] - 2s 7ms/step - loss: 1.1788 - accuracy: 0.5755 - val_loss: 1.3606 - val_accuracy: 0.5242\n",
            "Epoch 5/100\n",
            "313/313 [==============================] - 2s 7ms/step - loss: 1.1587 - accuracy: 0.5864 - val_loss: 1.3726 - val_accuracy: 0.5142\n",
            "Epoch 6/100\n",
            "313/313 [==============================] - 2s 7ms/step - loss: 1.1508 - accuracy: 0.5873 - val_loss: 1.3438 - val_accuracy: 0.5254\n",
            "Epoch 7/100\n",
            "313/313 [==============================] - 3s 9ms/step - loss: 1.1388 - accuracy: 0.5911 - val_loss: 1.3437 - val_accuracy: 0.5300\n",
            "Epoch 8/100\n",
            "313/313 [==============================] - 2s 7ms/step - loss: 1.1295 - accuracy: 0.5946 - val_loss: 1.3535 - val_accuracy: 0.5285\n",
            "Epoch 9/100\n",
            "313/313 [==============================] - 2s 7ms/step - loss: 1.1177 - accuracy: 0.5990 - val_loss: 1.3671 - val_accuracy: 0.5264\n",
            "Epoch 10/100\n",
            "313/313 [==============================] - 2s 7ms/step - loss: 1.1091 - accuracy: 0.6036 - val_loss: 1.3690 - val_accuracy: 0.5244\n",
            "Epoch 11/100\n",
            "313/313 [==============================] - 2s 7ms/step - loss: 1.0933 - accuracy: 0.6084 - val_loss: 1.3468 - val_accuracy: 0.5296\n",
            "Epoch 12/100\n",
            "313/313 [==============================] - 2s 8ms/step - loss: 1.0942 - accuracy: 0.6102 - val_loss: 1.3438 - val_accuracy: 0.5327\n",
            "Epoch 13/100\n",
            "313/313 [==============================] - 2s 8ms/step - loss: 1.0803 - accuracy: 0.6145 - val_loss: 1.3544 - val_accuracy: 0.5277\n",
            "Epoch 14/100\n",
            "313/313 [==============================] - 2s 7ms/step - loss: 1.0792 - accuracy: 0.6118 - val_loss: 1.3723 - val_accuracy: 0.5265\n",
            "Epoch 15/100\n",
            "313/313 [==============================] - 2s 7ms/step - loss: 1.0625 - accuracy: 0.6189 - val_loss: 1.3698 - val_accuracy: 0.5320\n",
            "Epoch 16/100\n",
            "313/313 [==============================] - 2s 7ms/step - loss: 1.0572 - accuracy: 0.6198 - val_loss: 1.3747 - val_accuracy: 0.5280\n",
            "Epoch 17/100\n",
            "313/313 [==============================] - 2s 7ms/step - loss: 1.0527 - accuracy: 0.6210 - val_loss: 1.3566 - val_accuracy: 0.5386\n",
            "Epoch 18/100\n",
            "313/313 [==============================] - 3s 9ms/step - loss: 1.0399 - accuracy: 0.6291 - val_loss: 1.3596 - val_accuracy: 0.5347\n",
            "Epoch 19/100\n",
            "313/313 [==============================] - 2s 7ms/step - loss: 1.0301 - accuracy: 0.6289 - val_loss: 1.3688 - val_accuracy: 0.5333\n",
            "Epoch 20/100\n",
            "313/313 [==============================] - 2s 7ms/step - loss: 1.0288 - accuracy: 0.6318 - val_loss: 1.3726 - val_accuracy: 0.5303\n",
            "Epoch 21/100\n",
            "313/313 [==============================] - 2s 7ms/step - loss: 1.0276 - accuracy: 0.6316 - val_loss: 1.3724 - val_accuracy: 0.5300\n",
            "Epoch 22/100\n",
            "313/313 [==============================] - 2s 7ms/step - loss: 1.0100 - accuracy: 0.6367 - val_loss: 1.3828 - val_accuracy: 0.5250\n"
          ]
        }
      ]
    },
    {
      "cell_type": "markdown",
      "source": [
        "# 3. Evaluation on test data and inference\n",
        "At this point, we will perform a basic evaluation and inference. With the model.evaluate function, the same metrics are calculated, that were used during training:"
      ],
      "metadata": {
        "id": "2FtKp-a2-A9m"
      }
    },
    {
      "cell_type": "code",
      "source": [
        "print(model.evaluate(X_test, Y_test))"
      ],
      "metadata": {
        "id": "I3_9wgDREUna",
        "outputId": "3e9d5bf1-9b49-4608-fa65-fcbf1f2083d4",
        "colab": {
          "base_uri": "https://localhost:8080/"
        }
      },
      "execution_count": 149,
      "outputs": [
        {
          "output_type": "stream",
          "name": "stdout",
          "text": [
            "313/313 [==============================] - 1s 3ms/step - loss: 1.3141 - accuracy: 0.5394\n",
            "[1.314132809638977, 0.5393999814987183]\n"
          ]
        }
      ]
    },
    {
      "cell_type": "markdown",
      "source": [
        "we would like to see similar values, as in the validation set. If those are close to each other, then the generalization ability of the model is good (in case of an independent test-set)."
      ],
      "metadata": {
        "id": "ECHguBFtGL7f"
      }
    },
    {
      "cell_type": "markdown",
      "source": [
        "## 3.1. Exercise\n",
        "Predict the class of the first 10 elements in the test set, and compare the predicted values with the actual, target values in the test set. Hints:\n",
        "* you can use [model.predict](https://www.activestate.com/resources/quick-reads/how-to-use-a-model-to-do-predictions-with-keras/) for prediction\n",
        "* from the output you can select the largest value with the [argmax() function of Numpy](https://stackoverflow.com/questions/62358642/convert-one-hot-encoding-back-to-number-label). As there are multiple values, you have to call it with axis=1 parameter.\n",
        "* it is enought to compare the predictions and the targets by printing the values out and inspecting them."
      ],
      "metadata": {
        "id": "0Io4zYJeHjz6"
      }
    },
    {
      "cell_type": "code",
      "source": [
        "preds = model.predict(X_train[:10])\n",
        "preds_dense = np.argmax(preds, axis=1)"
      ],
      "metadata": {
        "id": "XEEyU7exILqF",
        "outputId": "6eaef8b1-6faa-4e29-e952-974c51179ec5",
        "colab": {
          "base_uri": "https://localhost:8080/"
        }
      },
      "execution_count": 164,
      "outputs": [
        {
          "output_type": "stream",
          "name": "stdout",
          "text": [
            "1/1 [==============================] - 0s 93ms/step\n"
          ]
        }
      ]
    },
    {
      "cell_type": "markdown",
      "source": [
        "Before comparision, you have to convert back the one-hot encoded target values the same way, as you converted the output of the neural network to class values with argmax() function."
      ],
      "metadata": {
        "id": "seZTEFI-I5cZ"
      }
    },
    {
      "cell_type": "code",
      "source": [
        "print(\"Target labels:\", np.argmax(Y_test[:10],axis=1))\n",
        "print(\"Predicted labels:\", preds_dense)"
      ],
      "metadata": {
        "id": "PHLvoMuIIkJ6",
        "outputId": "cdad6f6b-211f-42d6-e303-ac00188ea802",
        "colab": {
          "base_uri": "https://localhost:8080/"
        }
      },
      "execution_count": 165,
      "outputs": [
        {
          "output_type": "stream",
          "name": "stdout",
          "text": [
            "Target labels: [3 8 8 0 6 6 1 6 3 1]\n",
            "Predicted labels: [6 9 9 4 8 1 2 7 8 9]\n"
          ]
        }
      ]
    }
  ]
}